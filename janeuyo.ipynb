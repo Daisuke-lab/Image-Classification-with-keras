{
 "cells": [
  {
   "cell_type": "code",
   "execution_count": null,
   "metadata": {},
   "outputs": [],
   "source": []
  },
  {
   "cell_type": "code",
   "execution_count": null,
   "metadata": {},
   "outputs": [],
   "source": []
  },
  {
   "cell_type": "code",
   "execution_count": 1,
   "metadata": {},
   "outputs": [],
   "source": []
  },
  {
   "cell_type": "code",
   "execution_count": 2,
   "metadata": {},
   "outputs": [
    {
     "name": "stderr",
     "output_type": "stream",
     "text": [
      "Using TensorFlow backend.\n"
     ]
    }
   ],
   "source": [
    "import keras"
   ]
  },
  {
   "cell_type": "code",
   "execution_count": 3,
   "metadata": {},
   "outputs": [],
   "source": [
    "from keras import layers, models\n",
    "\n",
    "model = models.Sequential()\n",
    "model.add(layers.Conv2D(32,(3,3),activation=\"relu\",input_shape=(150,150,3)))\n",
    "model.add(layers.MaxPooling2D((2,2)))\n",
    "model.add(layers.Conv2D(64,(3,3),activation=\"relu\"))\n",
    "model.add(layers.MaxPooling2D((2,2)))\n",
    "model.add(layers.Conv2D(128,(3,3),activation=\"relu\"))\n",
    "model.add(layers.MaxPooling2D((2,2)))\n",
    "model.add(layers.Conv2D(128,(3,3),activation=\"relu\"))\n",
    "model.add(layers.MaxPooling2D((2,2)))\n",
    "model.add(layers.Flatten())\n",
    "model.add(layers.Dense(512,activation=\"relu\"))\n",
    "model.add(layers.Dense(6,activation=\"sigmoid\"))"
   ]
  },
  {
   "cell_type": "code",
   "execution_count": 5,
   "metadata": {},
   "outputs": [],
   "source": [
    "from PIL import Image\n",
    "import os, glob\n",
    "import numpy as np\n",
    "import random, math\n",
    "import os\n",
    "import cv2\n",
    "\n",
    "\n",
    "categories = ['haruna', 'halonen', 'shrek', 'kadono', 'michael', 'stella', ]\n",
    "\n",
    "\n",
    "X = []\n",
    "\n",
    "Y = []\n",
    "\n",
    "def make_sample(files):\n",
    "    global X, Y\n",
    "    X = []\n",
    "    Y = []\n",
    "    for cat, fname in files:\n",
    "        add_sample(cat, fname)\n",
    "    return np.array(X), np.array(Y)\n",
    "\n",
    "\n",
    "def add_sample(cat, fname):\n",
    "    img = Image.open(fname)\n",
    "    img = img.convert(\"RGB\")\n",
    "    img = img.resize((150, 150))\n",
    "    data = np.asarray(img)\n",
    "    X.append(data)\n",
    "    Y.append(cat)\n",
    "\n",
    "\n",
    "allfiles = []\n",
    "alldirectories = []\n",
    "path = os.path.abspath('../')\n",
    "\n",
    "for name in categories:\n",
    "    alldirectories.append((path + '\\{}_picture'.format(name)))\n",
    "\n",
    "for directory in alldirectories:\n",
    "    for index in range(0, 5):\n",
    "        for num in range(0, 20):\n",
    "            images = directory + '\\{}_{}.jpg'.format(index, num)\n",
    "            allfiles.append((index, images))     \n",
    "\n",
    "\n",
    "random.shuffle(allfiles)\n",
    "th = math.floor(len(allfiles) * 0.8)\n",
    "train = allfiles[0:th]\n",
    "test  = allfiles[th:]\n",
    "X_train, y_train = make_sample(train)\n",
    "X_test, y_test = make_sample(test)\n",
    "xy = (X_train, X_test, y_train, y_test)\n",
    "\n",
    "np.save(path + \"/all_pictures.npy\", xy)"
   ]
  },
  {
   "cell_type": "code",
   "execution_count": 89,
   "metadata": {},
   "outputs": [],
   "source": [
    "from keras import optimizers\n",
    "\n",
    "model.compile(loss=\"binary_crossentropy\",\n",
    "              optimizer=optimizers.RMSprop(lr=1e-4),\n",
    "              metrics=[\"acc\"])"
   ]
  },
  {
   "cell_type": "code",
   "execution_count": 90,
   "metadata": {},
   "outputs": [],
   "source": [
    "from keras.utils import np_utils\n",
    "import numpy as np\n",
    "\n",
    "nb_classes = len(categories)\n",
    "\n",
    "X_train, X_test, y_train, y_test = np.load(path + '/all_pictures.npy', allow_pickle=True)\n",
    "\n",
    "\n",
    "X_train = X_train.astype(\"float\") / 255\n",
    "X_test  = X_test.astype(\"float\")  / 255\n",
    "\n",
    "\n",
    "y_train = np_utils.to_categorical(y_train, nb_classes)\n",
    "y_test  = np_utils.to_categorical(y_test, nb_classes)"
   ]
  },
  {
   "cell_type": "code",
   "execution_count": 91,
   "metadata": {},
   "outputs": [
    {
     "name": "stdout",
     "output_type": "stream",
     "text": [
      "Train on 480 samples, validate on 120 samples\n",
      "Epoch 1/10\n",
      "480/480 [==============================] - 34s 71ms/step - loss: 0.4416 - acc: 0.8288 - val_loss: 0.4290 - val_acc: 0.8333\n",
      "Epoch 2/10\n",
      "480/480 [==============================] - 32s 67ms/step - loss: 0.4259 - acc: 0.8333 - val_loss: 0.4391 - val_acc: 0.8333\n",
      "Epoch 3/10\n",
      "480/480 [==============================] - 33s 68ms/step - loss: 0.4230 - acc: 0.8333 - val_loss: 0.4222 - val_acc: 0.8333\n",
      "Epoch 4/10\n",
      "480/480 [==============================] - 33s 69ms/step - loss: 0.4174 - acc: 0.8333 - val_loss: 0.4194 - val_acc: 0.8333\n",
      "Epoch 5/10\n",
      "480/480 [==============================] - 33s 69ms/step - loss: 0.4088 - acc: 0.8333 - val_loss: 0.4306 - val_acc: 0.8333\n",
      "Epoch 6/10\n",
      "480/480 [==============================] - 33s 69ms/step - loss: 0.3990 - acc: 0.8340 - val_loss: 0.4311 - val_acc: 0.8319\n",
      "Epoch 7/10\n",
      "480/480 [==============================] - 33s 68ms/step - loss: 0.3862 - acc: 0.8372 - val_loss: 0.4363 - val_acc: 0.8319\n",
      "Epoch 8/10\n",
      "480/480 [==============================] - 33s 69ms/step - loss: 0.3647 - acc: 0.8396 - val_loss: 0.4446 - val_acc: 0.8208\n",
      "Epoch 9/10\n",
      "480/480 [==============================] - 33s 69ms/step - loss: 0.3498 - acc: 0.8479 - val_loss: 0.4498 - val_acc: 0.8194\n",
      "Epoch 10/10\n",
      "480/480 [==============================] - 33s 68ms/step - loss: 0.3243 - acc: 0.8597 - val_loss: 0.4693 - val_acc: 0.8125\n"
     ]
    }
   ],
   "source": [
    "model = model.fit(X_train,\n",
    "                  y_train,\n",
    "                  epochs=10,\n",
    "                  batch_size=6,\n",
    "                  validation_data=(X_test,y_test))"
   ]
  },
  {
   "cell_type": "code",
   "execution_count": 92,
   "metadata": {},
   "outputs": [
    {
     "data": {
      "image/png": "[encoded data removed]",
      "text/plain": [
       "<Figure size 432x288 with 1 Axes>"
      ]
     },
     "metadata": {
      "needs_background": "light"
     },
     "output_type": "display_data"
    },
    {
     "data": {
      "image/png": "[encoded data removed]",
      "text/plain": [
       "<Figure size 432x288 with 1 Axes>"
      ]
     },
     "metadata": {
      "needs_background": "light"
     },
     "output_type": "display_data"
    }
   ],
   "source": [
    "import matplotlib.pyplot as plt\n",
    "\n",
    "acc = model.history['acc']\n",
    "val_acc = model.history['val_acc']\n",
    "loss = model.history['loss']\n",
    "val_loss = model.history['val_loss']\n",
    "\n",
    "epochs = range(len(acc))\n",
    "\n",
    "plt.plot(epochs, acc, 'bo', label='Training acc')\n",
    "plt.plot(epochs, val_acc, 'b', label='Validation acc')\n",
    "plt.title('Training and validation accuracy')\n",
    "plt.legend()\n",
    "plt.savefig('data_accuracy')\n",
    "\n",
    "plt.figure()\n",
    "\n",
    "plt.plot(epochs, loss, 'bo', label='Training loss')\n",
    "plt.plot(epochs, val_loss, 'b', label='Validation loss')\n",
    "plt.title('Training and validation loss')\n",
    "plt.legend()\n",
    "plt.savefig('loss_value')"
   ]
  },
  {
   "cell_type": "code",
   "execution_count": 93,
   "metadata": {},
   "outputs": [],
   "source": [
    "allfiles = []\n",
    "alldirectories = []\n",
    "path = os.path.abspath('../')\n",
    "\n",
    "for name in categories:\n",
    "    alldirectories.append((path + '\\{}_picture'.format(name)))\n",
    "for directory in alldirectories:\n",
    "    for index in range(0, 5):\n",
    "        for num in range(0, 20):\n",
    "            images = directory + '\\{}_{}.jpg'.format(index, num)\n",
    "            allfiles.append((index, images))  \n",
    "\n",
    "\n",
    "\n",
    "for cat, fname in allfiles:\n",
    "    img = Image.open(fname)\n",
    "    img = img.convert(\"RGB\")\n",
    "    img = img.resize((150, 150))\n",
    "    data = np.asarray(img)\n",
    "    X.append(data)\n",
    "    Y.append(cat)\n",
    "\n",
    "x = np.array(X)\n",
    "y = np.array(Y)        "
   ]
  },
  {
   "cell_type": "code",
   "execution_count": 94,
   "metadata": {},
   "outputs": [
    {
     "name": "stdout",
     "output_type": "stream",
     "text": [
      "720/720 [==============================] - 11s 15ms/step\n",
      "loss= 41.18924958970812\n",
      "accuracy= 0.8506944179534912\n"
     ]
    }
   ],
   "source": [
    "\n",
    "from keras.utils import np_utils\n",
    "\n",
    "y = np_utils.to_categorical(y, 6)\n",
    "\n",
    "score = model.model.evaluate(x,y)\n",
    "\n",
    "print('loss=', score[0])\n",
    "print('accuracy=', score[1])"
   ]
  },
  {
   "cell_type": "code",
   "execution_count": null,
   "metadata": {},
   "outputs": [],
   "source": []
  }
 ],
 "metadata": {
  "kernelspec": {
   "display_name": "Python 3",
   "language": "python",
   "name": "python3"
  },
  "language_info": {
   "codemirror_mode": {
    "name": "ipython",
    "version": 3
   },
   "file_extension": ".py",
   "mimetype": "text/x-python",
   "name": "python",
   "nbconvert_exporter": "python",
   "pygments_lexer": "ipython3",
   "version": "3.7.4"
  }
 },
 "nbformat": 4,
 "nbformat_minor": 4
}
